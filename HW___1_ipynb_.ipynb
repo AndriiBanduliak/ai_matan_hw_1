{
  "nbformat": 4,
  "nbformat_minor": 0,
  "metadata": {
    "colab": {
      "provenance": []
    },
    "kernelspec": {
      "name": "python3",
      "display_name": "Python 3"
    },
    "language_info": {
      "name": "python"
    }
  },
  "cells": [
    {
      "cell_type": "code",
      "execution_count": null,
      "metadata": {
        "colab": {
          "base_uri": "https://localhost:8080/"
        },
        "id": "CTncj029ASN3",
        "outputId": "ec131aa3-c487-4117-a1a7-283e4d42af83"
      },
      "outputs": [
        {
          "output_type": "stream",
          "name": "stdout",
          "text": [
            "0.0026\n",
            "0.2813\n"
          ]
        }
      ],
      "source": [
        "'''Из колоды в 52 карты извлекаются случайным образом 4 карты. \n",
        "a) Найти вероятность того, что все карты – крести. \n",
        "б) Найти вероятность, что среди 4-х карт окажется хотя бы один туз'''\n",
        "\n",
        "'''Количество крестей в колоде равно 13, \n",
        "поэтому количество способов выбрать 4 креста равно C(13,4) \n",
        "Общее количество способов выбрать 4 карты из колоды равно C(52,4) '''\n",
        "\n",
        "from math import factorial\n",
        "\n",
        "def comb(n, k):\n",
        "    return factorial(n) // (factorial(k) * factorial(n - k))\n",
        "\n",
        "# a)\n",
        "P1 = comb(13, 4) / comb(52, 4)\n",
        "\n",
        "# b)\n",
        "P2 = 1 - comb(48, 4) / comb(52, 4)\n",
        "print(f\"{P1:.4f}\")\n",
        "print(f\"{P2:.4f}\")"
      ]
    },
    {
      "cell_type": "code",
      "source": [
        "from math import comb\n",
        "\n",
        "total_combinations = comb(10, 3)\n",
        "successful_combinations = 1\n",
        "probability = successful_combinations / total_combinations\n",
        "print(f\"{probability:4f}\")\n"
      ],
      "metadata": {
        "colab": {
          "base_uri": "https://localhost:8080/"
        },
        "id": "TsiHu0PWOz-I",
        "outputId": "b73a443f-5ebe-4012-b689-cf8b6dbfc58b"
      },
      "execution_count": 2,
      "outputs": [
        {
          "output_type": "stream",
          "name": "stdout",
          "text": [
            "0.008333\n"
          ]
        }
      ]
    },
    {
      "cell_type": "markdown",
      "source": [
        "В ящике имеется 15 деталей, из которых 9 окрашены. Рабочий случайным образом извлекает 3 детали. Какова вероятность того, что все извлеченные детали окрашены?\n",
        "Вероятность может быть рассчитана как число выгодных исходов, деленное на общее число исходов. Выгодный исход - это извлечение 3 окрашенных деталей. Общее число исходов - это число возможных сочетаний из 15 деталей по 3. "
      ],
      "metadata": {
        "id": "pxVKFD7CXqyJ"
      }
    },
    {
      "cell_type": "code",
      "source": [
        "from math import comb\n",
        "\n",
        "p = comb(9, 3) / comb(15, 3)\n",
        "print(f\"{p:5f}\")\n"
      ],
      "metadata": {
        "colab": {
          "base_uri": "https://localhost:8080/"
        },
        "id": "xpq3eTQ8XyR0",
        "outputId": "4a2e0d7d-4974-4219-a3d4-f30c75ca0af5"
      },
      "execution_count": 2,
      "outputs": [
        {
          "output_type": "stream",
          "name": "stdout",
          "text": [
            "0.184615\n"
          ]
        }
      ]
    },
    {
      "cell_type": "markdown",
      "source": [
        "В лотерее 100 билетов. Из них 2 выигрышных. Какова вероятность того, что 2 приобретенных билета окажутся выигрышными?"
      ],
      "metadata": {
        "id": "bX7Fl7F8YRBd"
      }
    },
    {
      "cell_type": "code",
      "source": [
        "from math import comb\n",
        "\n",
        "p = (comb(2, 2) * comb(98, 0)) / comb(100, 2)\n",
        "print(f\"{p:5f}\")"
      ],
      "metadata": {
        "colab": {
          "base_uri": "https://localhost:8080/"
        },
        "id": "5rvWVpBDYSAI",
        "outputId": "9e420a62-9f6d-4a4f-9086-b6eab3445f32"
      },
      "execution_count": 3,
      "outputs": [
        {
          "output_type": "stream",
          "name": "stdout",
          "text": [
            "0.000202\n"
          ]
        }
      ]
    }
  ]
}